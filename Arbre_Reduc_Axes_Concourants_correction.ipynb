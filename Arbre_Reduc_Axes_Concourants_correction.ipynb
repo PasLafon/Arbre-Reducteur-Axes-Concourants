{
 "cells": [
  {
   "cell_type": "markdown",
   "metadata": {},
   "source": [
    "<a href=\"http://www.utt.fr\"><img src=\"logo-UTT.svg\" width=\"200\" align=\"left\"></a>\n",
    "### Formation d'Ingénieur en Génie Mécanique\n",
    "#### Eléments de bureau d'études (code UE TN12 niveau L3)\n",
    "---\n",
    "\n",
    "* Rapide tutoriel sur les [notebook et JupyterLab](https://github.com/PasLafon/UTT-Teaching/blob/master/Tuto-Perso-Jupyter/Tuto-Jupyter.md)\n",
    "* Rapide tutoriel pour [télécharger ce notebook](https://github.com/PasLafon/UTT-Teaching/blob/master/Tuto-Perso-Jupyter/Tuto-nbviewer-GitHub.md) et le rendre actif (l'éxecuter, le modifier, ..) \n",
    "\n",
    "---"
   ]
  },
  {
   "cell_type": "markdown",
   "metadata": {},
   "source": [
    "## Arbre : Réducteur à axes concourants"
   ]
  },
  {
   "cell_type": "markdown",
   "metadata": {},
   "source": [
    "<img src=\"Pignon_Arbre_vue3D.svg\" width=\"500\">"
   ]
  },
  {
   "cell_type": "markdown",
   "metadata": {},
   "source": [
    "### Données :\n",
    "<ul>\n",
    "   <li>Couple d'entrée $\\vec{\\mathcal{C}}_e=\\mathcal{C}_e\\vec{x}$ donné par la puissance transmise $\\mathcal{P}=$ 20 kW à la vitesse de rotation de $\\omega=$ 1500 tr/min. </li>\n",
    "   <li>Effort de la roue dentée sur le pignon en $I$ : $\\vec{F}=F_a\\vec{x}+F_r\\vec{y}+F_t\\vec{z}$.</li><br>\n",
    "$$\n",
    "F_t = -\\frac{\\mathcal{C}_e}{r}\\quad\n",
    "F_a = F_t\\sin\\delta\\quad\n",
    "F_r = F_t\\tan\\alpha\\cos\\delta\\quad\n",
    "\\alpha=20°\\quad\n",
    "\\delta=26.57°\\quad\\vec{CI}=r\\vec{y}\n",
    "$$<br>\n",
    "    <li>Rotule en $B$ et linéaire annulaire en $A$. </li><br>\n",
    "    <li>Arbre en acier 25CD4, limite à la rupture $R_m=841$MPa, limite élastique $R_e=685$MPa et la limite d'endurance à la fatigue $\\sigma_{D_0}=390$MPa.</li>\n",
    "    <li>Dimension de l'arbre : $a=27$mm, $b=46.75$mm, $c=54$mm et $r=27$mm.</li>\n",
    "</ul>"
   ]
  },
  {
   "cell_type": "markdown",
   "metadata": {},
   "source": [
    "### Calcul des efforts extérieurs :\n",
    "<ul>\n",
    "<li>En regime stationnaire la vitesse de rotation $\\omega=\\dot{\\theta}$ est constante $\\Rightarrow$ pas d'accélération angulaire, $\\ddot{\\theta}=0$.</li>\n",
    "<li>Arbre parfaitement équilibré statiquement (centre de gravité sur l'axe de rotation) et dynamiquement (matrice d'inertie sans termes non diagonaux).</li>\n",
    "</ul>    \n",
    "<br>\n",
    "    \n",
    "$\\Rightarrow$ **Torseur dynamique null**\n",
    "<br>\n",
    "<br>\n",
    "Le PFD se réduit à :\n",
    "    $$\n",
    "    \\{\\mathcal{T}_{\\text{Ext.}\\to\\text{Arbre}}\\}=\\{0\\}\n",
    "    $$"
   ]
  },
  {
   "cell_type": "markdown",
   "metadata": {},
   "source": [
    "On isole l'arbre, le bilan des actions mécaniques extérieures comporte 4 torseurs :"
   ]
  },
  {
   "cell_type": "markdown",
   "metadata": {},
   "source": [
    "$$\n",
    "\\{\\mathcal{T}_{\\text{Couple}\\to\\text{Arbre}}\\} +\n",
    "\\{\\mathcal{T}_{\\text{Rot.}\\to\\text{Arbre}}\\} +\n",
    "\\{\\mathcal{T}_{\\text{Lin. An.}\\to\\text{Arbre}}\\} +\n",
    "\\{\\mathcal{T}_{\\text{Roue}\\to\\text{Arbre}}\\}=\\{0\\}\n",
    "$$"
   ]
  },
  {
   "cell_type": "markdown",
   "metadata": {},
   "source": [
    "Le PFD en $B$ s'écrit :"
   ]
  },
  {
   "cell_type": "markdown",
   "metadata": {},
   "source": [
    "$$\n",
    "\\left\\lbrace\n",
    "\\begin{array}{c}\n",
    "\\vec{0}\\\\\n",
    "\\vec{\\mathcal{C}}_e\n",
    "\\end{array}\n",
    "\\right\\rbrace_{B}\n",
    "+\n",
    "\\left\\lbrace\n",
    "\\begin{array}{c}\n",
    "\\vec{\\mathcal{R}_{B01}}\\\\\n",
    "\\vec{0}\n",
    "\\end{array}\n",
    "\\right\\rbrace_{B}\n",
    "+\n",
    "\\left\\lbrace\n",
    "\\begin{array}{c}\n",
    "\\vec{\\mathcal{R}_{A01}}\\\\\n",
    "\\vec{BA}\\wedge\\vec{\\mathcal{R}_{A01}}\n",
    "\\end{array}\n",
    "\\right\\rbrace_{B}\n",
    "+\n",
    "\\left\\lbrace\n",
    "\\begin{array}{c}\n",
    "\\vec{F}\\\\\n",
    "\\vec{BI}\\wedge\\vec{F}\n",
    "\\end{array}\n",
    "\\right\\rbrace_{B}\n",
    "=\n",
    "\\left\\lbrace\n",
    "\\begin{array}{c}\n",
    "\\vec{0}\\\\\n",
    "\\vec{0}\n",
    "\\end{array}\n",
    "\\right\\rbrace\n",
    "$$"
   ]
  },
  {
   "cell_type": "markdown",
   "metadata": {},
   "source": [
    "$$\n",
    "\\left\\lbrace\n",
    "\\begin{array}{cc}\n",
    "0&\\mathcal{C}_e\\\\\n",
    "0&0\\\\\n",
    "0&0\n",
    "\\end{array}\n",
    "\\right\\rbrace_{B}\n",
    "+\n",
    "\\left\\lbrace\n",
    "\\begin{array}{cc}\n",
    "X_{B01}&0\\\\\n",
    "Y_{B01}&0\\\\\n",
    "Z_{B01}&0\n",
    "\\end{array}\n",
    "\\right\\rbrace_{B}\n",
    "+\n",
    "\\left\\lbrace\n",
    "\\begin{array}{crcl}\n",
    "0&-b& &0\\\\\n",
    "Y_{A01}&0&\\wedge&Y_{A01}\\\\\n",
    "Z_{A01}&0& &Z_{A01}\n",
    "\\end{array}\n",
    "\\right\\rbrace_{B}\n",
    "+\n",
    "\\left\\lbrace\n",
    "\\begin{array}{crcl}\n",
    "F_a&a& &F_a\\\\\n",
    "F_r&r&\\wedge&F_r\\\\\n",
    "F_t&0& &F_t\n",
    "\\end{array}\n",
    "\\right\\rbrace_{B}\n",
    "=\n",
    "\\left\\lbrace\n",
    "\\begin{array}{rl}\n",
    "0&0\\\\\n",
    "0&0\\\\\n",
    "0&0\n",
    "\\end{array}\n",
    "\\right\\rbrace\n",
    "$$"
   ]
  },
  {
   "cell_type": "markdown",
   "metadata": {},
   "source": [
    "Remarque :\n",
    "\n",
    "On obtient un système de 6 équations avec 5 inconnues. Le degré de mobilité $m_c=1$ (rotation autour de l'axe $\\vec{x}$), il n'y a donc, que $6-m_c=5$ équations utilisables."
   ]
  },
  {
   "cell_type": "markdown",
   "metadata": {},
   "source": [
    "$$\n",
    "\\left\\lbrace\n",
    "\\begin{array}{rl}\n",
    "X_{B01} + F_a &=0\\\\\n",
    "Y_{B01} + Y_{A01} + F_r &=0\\\\\n",
    "Z_{B01} + Z_{A01} + F_t &=0\\\\\n",
    "\\mathcal{C}_e + r.F_t &=0\\\\\n",
    "b.Z_{A01} - a.F_t &=0\\\\\n",
    "-b.Y_{A01} + a.F_r -r.F_a&=0\n",
    "\\end{array}\n",
    "\\right.\n",
    "$$"
   ]
  },
  {
   "cell_type": "markdown",
   "metadata": {},
   "source": [
    "Le calcul donne :"
   ]
  },
  {
   "cell_type": "markdown",
   "metadata": {},
   "source": [
    "$$\n",
    "\\{\\mathcal{T}_{\\text{Rot.}\\to\\text{Arbre}}\\}:\n",
    "\\left\\lbrace\n",
    "\\begin{array}{cc}\n",
    "X_{B01}=-F_a&0\\\\\n",
    "Y_{B01}=-\\frac{a+b}{b}F_r + \\frac{r}{b}F_a&0\\\\\n",
    "Z_{B01}=-\\frac{a+b}{b}F_t&0\n",
    "\\end{array}\n",
    "\\right\\rbrace_{B}\n",
    "\\quad\n",
    "\\{\\mathcal{T}_{\\text{Lin. An.}\\to\\text{Arbre}}\\}:\n",
    "\\left\\lbrace\n",
    "\\begin{array}{cc}\n",
    "X_{A01}=0&0\\\\\n",
    "Y_{A01}=\\frac{a}{b}F_r -\\frac{r}{b}F_a&0\\\\\n",
    "Z_{A01}=\\frac{a}{b}F_t&0\n",
    "\\end{array}\n",
    "\\right\\rbrace_{A}\n",
    "$$"
   ]
  },
  {
   "cell_type": "code",
   "execution_count": 2,
   "metadata": {},
   "outputs": [
    {
     "name": "stdout",
     "output_type": "stream",
     "text": [
      "Ce  :127.32 N.m\n",
      "Ft  :-4716 N  \n",
      "Fa  :-2109 N  \n",
      "Fr  :-1535 N  \n",
      "XB01 :     2109 N | YB01 :     6221 N | ZB01 :     7439 N\n",
      "XA01 :        0 N | YA01 :      332 N | ZA01 :    -2724 N\n"
     ]
    }
   ],
   "source": [
    "import numpy as np\n",
    "Pi = np.pi\n",
    "a = 27\n",
    "b = 46.75\n",
    "c = 54\n",
    "r = 27\n",
    "Ce = 20e3/(1500*Pi/30) # Couple en N.m\n",
    "Ft = -Ce*1e3/r         # Couple en N.mm car r en mm\n",
    "Fa = Ft*np.sin(26.57*Pi/180)\n",
    "Fr = Ft*np.tan(20*Pi/180)*np.cos(26.57*Pi/180)\n",
    "print('Ce  :%.2f N.m'%Ce)\n",
    "print('Ft  :%.0f N  '%Ft)\n",
    "print('Fa  :%.0f N  '%Fa)\n",
    "print('Fr  :%.0f N  '%Fr)\n",
    "XB01 = -Fa\n",
    "YB01 = -Ft*(a+b)/b + Fa*(r/b)\n",
    "ZB01 = -Ft*(a+b)/b\n",
    "YA01 = Fr*(a/b) - Fa*(r/b)\n",
    "ZA01 = Ft*a/b\n",
    "print('XB01 : %8.0f N | YB01 : %8.0f N | ZB01 : %8.f N'%(XB01,YB01,ZB01))\n",
    "print('XA01 : %8.0f N | YA01 : %8.0f N | ZA01 : %8.f N'%(0,YA01,ZA01))"
   ]
  },
  {
   "cell_type": "markdown",
   "metadata": {},
   "source": [
    "### Efforts de cohésion :\n",
    "\n",
    "Pour plus de détails voir :\n",
    "<ul>\n",
    "    <li>Le cours sur dimensionnement des arbres (TN12/TN20):  <a href=\"https://moodle.utt.fr/mod/resource/view.php?id=25660\">ici </a>, slides 1 à 30.</li>\n",
    "    <li>Le cours d'introduction à la mécanique des matériaux et des structures <a href=\"https://moodle.utt.fr/pluginfile.php/24331/mod_folder/content/0/MQ01-Handout-cours-A2019.pdf?forcedownload=1\">ici</a>, slides 198 à 214.</li>\n",
    "</ul>"
   ]
  },
  {
   "cell_type": "markdown",
   "metadata": {},
   "source": [
    "Contenu tenu des efforts extérieurs introduit en $O$, $A$, $B$ et $C$ le calcul se fait sur les 3 intervalles : $[OA[$, $[AB[$, $[BC[$."
   ]
  },
  {
   "cell_type": "markdown",
   "metadata": {},
   "source": [
    "#### 1/ Section de coupure fictive sur $[OA[$ en $G$ :\n",
    "Equilibre du tronçon $\\mathrm{I}$ \"avant\" la section de coupure, avec $\\vec{OG}=x\\vec{x}$ et $x\\in[0,c[$ :<br>\n",
    "<br>\n",
    "$$\n",
    "\\{\\mathcal{T}_{\\text{Ext.}\\to\\mathrm{I}}\\} +\n",
    "\\{\\mathcal{T}_{\\text{Coh. }\\mathrm{II}\\to\\mathrm{I}}\\}\n",
    "= \\{0\\}\n",
    "$$"
   ]
  },
  {
   "cell_type": "markdown",
   "metadata": {},
   "source": [
    "$$\n",
    "\\left\\lbrace\n",
    "\\begin{array}{c}\n",
    "\\vec{0}\\\\\n",
    "\\vec{\\mathcal{C}}_e\n",
    "\\end{array}\n",
    "\\right\\rbrace_{G} +\n",
    "\\left\\lbrace\n",
    "\\begin{array}{c}\n",
    "\\vec{\\mathcal{R}}_\\text{Coh}\\\\\n",
    "\\vec{\\mathcal{M}}_\\text{Coh}\n",
    "\\end{array}\n",
    "\\right\\rbrace_{G}\n",
    "=\n",
    "\\left\\lbrace\n",
    "\\begin{array}{c}\n",
    "\\vec{0}\\\\\n",
    "\\vec{0}\n",
    "\\end{array}\n",
    "\\right\\rbrace\n",
    "$$"
   ]
  },
  {
   "cell_type": "markdown",
   "metadata": {},
   "source": [
    "$$\n",
    "\\left\\lbrace\n",
    "\\begin{array}{cc}\n",
    "N&M_t\\\\\n",
    "T_y&M_{fy}\\\\\n",
    "T_z&M_{fz}\n",
    "\\end{array}\n",
    "\\right\\rbrace_{G}\n",
    "=\n",
    "\\left\\lbrace\n",
    "\\begin{array}{cc}\n",
    "0&-\\mathcal{C}_e\\\\\n",
    "0&0\\\\\n",
    "0&0\n",
    "\\end{array}\n",
    "\\right\\rbrace_{G}\n",
    "$$"
   ]
  },
  {
   "cell_type": "markdown",
   "metadata": {},
   "source": [
    "Cet intervalle de l'arbre est soumis à de la torsion pure."
   ]
  },
  {
   "cell_type": "markdown",
   "metadata": {},
   "source": [
    "#### 2/ Section de coupure fictive sur $[AB[$ en $G$ :\n",
    "Equilibre du tronçon $\\mathrm{I}$ \"avant\" la section de coupure, avec $\\vec{OG}=x\\vec{x}$ et $x\\in[c,c+b[$ :<br>\n",
    "<br>\n",
    "$$\n",
    "\\{\\mathcal{T}_{\\text{Ext.}\\to\\mathrm{I}}\\} +\n",
    "\\{\\mathcal{T}_{\\text{Coh. }\\mathrm{II}\\to\\mathrm{I}}\\}\n",
    "= \\{0\\}\n",
    "$$"
   ]
  },
  {
   "cell_type": "markdown",
   "metadata": {},
   "source": [
    "$$\n",
    "\\left\\lbrace\n",
    "\\begin{array}{c}\n",
    "\\vec{0}\\\\\n",
    "\\vec{\\mathcal{C}}_e\n",
    "\\end{array}\n",
    "\\right\\rbrace_{G} +\n",
    "\\left\\lbrace\n",
    "\\begin{array}{c}\n",
    "\\vec{\\mathcal{R}_{A01}}\\\\\n",
    "\\vec{GA}\\wedge\\vec{\\mathcal{R}_{A01}}\n",
    "\\end{array}\n",
    "\\right\\rbrace_{G}\n",
    "+\n",
    "\\left\\lbrace\n",
    "\\begin{array}{c}\n",
    "\\vec{\\mathcal{R}}_\\text{Coh}\\\\\n",
    "\\vec{\\mathcal{M}}_\\text{Coh}\n",
    "\\end{array}\n",
    "\\right\\rbrace_{G}\n",
    "=\n",
    "\\left\\lbrace\n",
    "\\begin{array}{c}\n",
    "\\vec{0}\\\\\n",
    "\\vec{0}\n",
    "\\end{array}\n",
    "\\right\\rbrace\n",
    "$$"
   ]
  },
  {
   "cell_type": "markdown",
   "metadata": {},
   "source": [
    "$$\n",
    "\\left\\lbrace\n",
    "\\begin{array}{cc}\n",
    "N&M_t\\\\\n",
    "T_y&M_{fy}\\\\\n",
    "T_z&M_{fz}\n",
    "\\end{array}\n",
    "\\right\\}_{G}\n",
    "=-\n",
    "\\left\\lbrace\n",
    "\\begin{array}{cc}\n",
    "0&\\mathcal{C}_e\\\\\n",
    "0&0\\\\\n",
    "0&0\n",
    "\\end{array}\n",
    "\\right\\}_{G}\n",
    "-\n",
    "\\left\\lbrace\n",
    "\\begin{array}{crcl}\n",
    "0&c-x& &0\\\\\n",
    "Y_{A01}&0&\\wedge&Y_{A01}\\\\\n",
    "Z_{A01}&0& &Z_{A01}\n",
    "\\end{array}\n",
    "\\right\\}_{G}\n",
    "=\n",
    "\\left\\lbrace\n",
    "\\begin{array}{cc}\n",
    "0&-\\mathcal{C}_e\\\\\n",
    "-Y_{A01}&(c-x)Z_{A01}\\\\\n",
    "-Z_{A01}&-(c-x)Y_{A01}\n",
    "\\end{array}\n",
    "\\right\\rbrace_{G}\n",
    "$$"
   ]
  },
  {
   "cell_type": "markdown",
   "metadata": {},
   "source": [
    "Cet intervalle de l'arbre est soumis à de la torsion combinée avec de la flexion dans les directions $\\vec{y}$ et $\\vec{z}$ (sollicitation de torsion + flexion plane)."
   ]
  },
  {
   "cell_type": "markdown",
   "metadata": {},
   "source": [
    "#### 3/ Section de coupure fictive sur $[BC[$ en $G$ :\n",
    "\n",
    "Equilibre du tronçon $\\mathrm{I}$ \"avant\" la section de coupure, avec $\\vec{OG}=x\\vec{x}$ et $x\\in[c+b,c+b+a[$ :\n",
    "(attention ici on écrit l'équilibre avec les actions mécaniques agissant sur $\\mathrm{II}$)\n",
    "\n",
    "$$\n",
    "\\{\\mathcal{T}_{\\text{Ext.}\\to\\mathrm{I}}\\} +\n",
    "\\{\\mathcal{T}_{\\text{Coh. }\\mathrm{II}\\to\\mathrm{I}}\\}\n",
    "= \\{0\\}\n",
    "\\Longleftrightarrow\n",
    "-\\{\\mathcal{T}_{\\text{Ext.}\\to\\mathrm{II}}\\} +\n",
    "\\{\\mathcal{T}_{\\text{Coh. }\\mathrm{II}\\to\\mathrm{I}}\\}\n",
    "= \\{0\\}\n",
    "$$"
   ]
  },
  {
   "cell_type": "markdown",
   "metadata": {},
   "source": [
    "$$-\n",
    "\\left\\lbrace\n",
    "\\begin{array}{c}\n",
    "\\vec{F}\\\\\n",
    "\\vec{GI}\\wedge\\vec{F}\n",
    "\\end{array}\n",
    "\\right\\rbrace_{G}\n",
    "+\n",
    "\\left\\lbrace\n",
    "\\begin{array}{c}\n",
    "\\vec{\\mathcal{R}}_\\text{Coh}\\\\\n",
    "\\vec{\\mathcal{M}}_\\text{Coh}\n",
    "\\end{array}\n",
    "\\right\\rbrace_{G}\n",
    "=\n",
    "\\left\\lbrace\n",
    "\\begin{array}{c}\n",
    "\\vec{0}\\\\\n",
    "\\vec{0}\n",
    "\\end{array}\n",
    "\\right\\rbrace\n",
    "$$"
   ]
  },
  {
   "cell_type": "markdown",
   "metadata": {},
   "source": [
    "$$\n",
    "\\left\\lbrace\n",
    "\\begin{array}{cc}\n",
    "N&M_t\\\\\n",
    "T_y&M_{fy}\\\\\n",
    "T_z&M_{fz}\n",
    "\\end{array}\n",
    "\\right\\rbrace_{G}\n",
    "=\n",
    "\\left\\lbrace\n",
    "\\begin{array}{crcl}\n",
    "F_a&c+b+a-x& &F_a\\\\\n",
    "F_r&r&\\wedge&F_r\\\\\n",
    "F_t&0& &F_t\n",
    "\\end{array}\n",
    "\\right\\rbrace_{G}\n",
    "=\n",
    "\\left\\lbrace\n",
    "\\begin{array}{cc}\n",
    "F_a&r.F_t\\\\\n",
    "F_r&-(c+b+a-x)F_t\\\\\n",
    "F_t&(c+b+a-x)F_r - r.F_a\n",
    "\\end{array}\n",
    "\\right\\rbrace_{G}\n",
    "$$"
   ]
  },
  {
   "cell_type": "markdown",
   "metadata": {},
   "source": [
    "Cet intervalle de l'arbre est soumis à de la torsion combinée avec de la compression et la flexion plane : sollicitation de torsion + flexion plane composée."
   ]
  },
  {
   "cell_type": "code",
   "execution_count": 3,
   "metadata": {},
   "outputs": [
    {
     "data": {
      "image/png": "[encoded data removed]",
      "text/plain": [
       "<Figure size 864x864 with 6 Axes>"
      ]
     },
     "metadata": {
      "needs_background": "light"
     },
     "output_type": "display_data"
    }
   ],
   "source": [
    "# Import d'un module pour le tracé des graphes de cohésion :\n",
    "from  TraceGrapheCohesion import TraceGrapheCohesion\n",
    "# Intervalles et expressions des efforts de cohésion :\n",
    "intervalles = ((0,c),(c,c+b),(c+b,c+b+a))\n",
    "expressions ={'N'  :(lambda x:0   , lambda x:0                , lambda x:Fa),\n",
    "              'Ty' :(lambda x:0   , lambda x:-YA01            , lambda x:Fr),\n",
    "              'Tz' :(lambda x:0   , lambda x:-ZA01            , lambda x:Ft),\n",
    "              'Mt' :(lambda x:-Ce , lambda x:-Ce              , lambda x:r*Ft/1000),\n",
    "              'Mfy':(lambda x:0   , lambda x:(c-x)*ZA01/1000  , lambda x:-(c+b+a-x)*Ft/1000),\n",
    "              'Mfz':(lambda x:0   , lambda x:-(c-x)*YA01/1000 , lambda x:((c+b+a-x)*Fr-r*Fa)/1000)}\n",
    "\n",
    "TraceGrapheCohesion((12,12),50,intervalles,expressions)"
   ]
  },
  {
   "cell_type": "markdown",
   "metadata": {},
   "source": [
    "### Dimensionnement :\n",
    "<ul>\n",
    "<li>La section \"critique\", celle où les efforts de cohésion sont les plus importants, est située en $B$ donc en $x=c+b$. On prendra\n",
    "les valeurs sur l'intervalle $[BC[$.</li>\n",
    "<li>Dans le cadre de la théorie des poutres élancées, on néglige l'effet des efforts tranchant sur les contraintes, on prends donc en compte $N(x)$, $M_t(x)$, $M_{fy}(x)$ et $M_{fz}(x)$.</li>\n",
    "</ul>"
   ]
  },
  {
   "cell_type": "code",
   "execution_count": 4,
   "metadata": {},
   "outputs": [
    {
     "name": "stdout",
     "output_type": "stream",
     "text": [
      "Effort normal        :    -2109 N\n",
      "Moment de torsion    :     -127 N.m\n",
      "Moment de flexion /y :      127 N.m\n",
      "Moment de flexion /z :       16 N.m\n"
     ]
    }
   ],
   "source": [
    "Nmax  =expressions['N'][2](c+b)\n",
    "Mtmax =expressions['Mt'][2](c+b)\n",
    "Mfymax=expressions['Mfy'][2](c+b)\n",
    "Mfzmax=expressions['Mfz'][2](c+b)\n",
    "Mfmax = np.sqrt(Mfymax**2+Mfzmax**2)\n",
    "print('Effort normal        : %8.f N'%Nmax)\n",
    "print('Moment de torsion    : %8.f N.m'%Mtmax)\n",
    "print('Moment de flexion /y : %8.f N.m'%Mfymax)\n",
    "print('Moment de flexion /z : %8.f N.m'%Mfzmax)"
   ]
  },
  {
   "cell_type": "markdown",
   "metadata": {},
   "source": [
    "Pour la section en $B$, de diamètre $d$, en notant $I=I_y=I_z$ le moment quadratique et $S$ l'aire :\n",
    "$$I=I_y=I_z=\\pi\\frac{d^4}{64}\\text{ et }S=\\pi\\frac{d^2}{4}$$<br>\n",
    "La torsion produit des contraintes tangentielles, l'effort normal et la flexion produisent des contraintes normales."
   ]
  },
  {
   "cell_type": "markdown",
   "metadata": {},
   "source": [
    "#### Contraintes normales :\n",
    "\n",
    "<ul>\n",
    "<li>La contraine normale maximale est due à $N(x)$, $M_{fy}(x)$ et $M_{fz}(x)$, en flexion plane composée (voir reférences détails ci-dessus) vaut en un point $M$ de coordonnées $(y,z)$ dans la section de coupure à l'ascisse $x$ :<br><br>\n",
    "$$\n",
    " \\sigma(x,y,z) = \\frac{N(x)}{S} + \\frac{z.M_{fy}(x)}{I_y} - \\frac{y.M_{fz}(x)}{I_z}\n",
    "$$<br>\n",
    "</ul>"
   ]
  },
  {
   "cell_type": "markdown",
   "metadata": {},
   "source": [
    "<ul>\n",
    "<li>Dans le cas des arbres (section circulaire) on montre que la contrainte normale maximale s'écrit :\n",
    "$$\n",
    "\\vert\\sigma_\\text{max}\\vert= \\frac{d}{2I}M_{f\\text{max}} + \\frac{\\vert N_\\text{max}\\vert}{S}\\text{ avec }M_{f\\text{max}}=\\sqrt{M_{fy\\text{max}}^2 + M_{fz\\text{max}}^2}\n",
    "$$<br>\n",
    "    \n",
    "Remarque : La contribution du momemt de flexion vaut $\\pm \\frac{d}{2I}M_{f\\text{max}}$ comme ici l'effort est normal est négatif, la contrainte normale maximale en norme est négative et sa norme s'obtient avec la somme $\\frac{d}{2I}M_{f\\text{max}} + \\frac{\\vert N_\\text{max}\\vert}{S}$.<br><br>\n",
    "Donc : \n",
    "    $$\\sigma_\\text{max}= \\frac{32}{\\pi d^3}M_{f\\text{max}}+ \\frac{\\vert 4N_\\text{max}\\vert}{\\pi d^2}$$<br>   \n",
    "    </li><br>\n",
    "    </ul>"
   ]
  },
  {
   "cell_type": "markdown",
   "metadata": {},
   "source": [
    "#### Contraintes tangentielles :\n",
    "\n",
    "<ul>\n",
    "<li>La contraine tangentielle due à $M_t(x)$ en $M$ à la distance $\\rho$ du centre de la section de coupure à l'abscisse $x$, le moment de torsion, vaut :\n",
    "$$\n",
    "\\tau(x,\\rho) = \\frac{\\rho}{I_G}M_{t}(x)\\text{ avec : }I_G=\\frac{\\pi d^4}{32} \n",
    "$$</li><br>\n",
    " <li>La contraine tangentielle maximale due à $M_{t\\text{max}}$ vaut, avec $I_G=2I$ et $\\rho=d/2$ :\n",
    "$$\n",
    "\\tau_\\text{max} = \\frac{d}{4.I}M_{t\\text{max}}\n",
    "$$</li>\n",
    "Avec :\n",
    "     $$\n",
    "    \\tau_\\text{max}= \\frac{16}{\\pi d^3}M_{t\\text{max}}\n",
    "    $$\n",
    "</ul>    "
   ]
  },
  {
   "cell_type": "markdown",
   "metadata": {},
   "source": [
    "### Contrainte équilavente de *von Mises* et condition de résistance :\n",
    "<ul>\n",
    "<li>On est dans le cas d'une sollicitation produisant des contraines normales et des contraintes tangentielles, il faut utiliser une contrainte équivalente (ici celle de *von Mises*) pour dimensionner :\n",
    "$$\n",
    "\\sigma_{\\text{eq}_\\text{max}}=\\sqrt{  \\sigma_\\text{max}^2 + 3 \\tau_\\text{max}^2}\n",
    "$$\n",
    "Soit :\n",
    "$$\n",
    "\\sigma_{\\text{eq}_\\text{max}}=\\sqrt{\n",
    "\\left(\\frac{32}{\\pi d^3}M_{f\\text{max}} + \\frac{\\vert 4N_\\text{max}\\vert}{\\pi d^2}\\right)^2\n",
    "+\n",
    "3\\left(\\frac{16}{\\pi d^3}M_{t\\text{max}} \\right)^2}\n",
    "$$<br>\n",
    "    </li>\n",
    "<li>La condition de résistance (qui permet de dimensionner) s'écrit avec $s$ le coefficient de sécurité :\n",
    "$$\n",
    "\\sigma_{\\text{eq}_\\text{max}}\\leq \\frac{R_e}{s}\n",
    "$$\n",
    "    </li>\n",
    "<li>L'extraction de $d$ de l'expression ci-dessous pour dimensionner l'arbre, n'est pas directe. On peut cependant essayer de simplifier cette expression en estimant la contribution de l'effort normal aux constraintes, pour éventuellement négliger cette contribution.</li>\n",
    "    </ul>"
   ]
  },
  {
   "cell_type": "code",
   "execution_count": 5,
   "metadata": {},
   "outputs": [
    {
     "name": "stdout",
     "output_type": "stream",
     "text": [
      "Contrainte normale due à Nmax  :    4 MPa\n",
      "Contrainte normale due à Mfmax :   84 MPa\n"
     ]
    }
   ],
   "source": [
    "d = 25\n",
    "I = Pi*d**4/64\n",
    "S = Pi*d**2/4\n",
    "sigtmax = np.abs(Nmax)/S\n",
    "sigfmax = (Mfmax*1e3*d)/(2*I)\n",
    "print('Contrainte normale due à Nmax  : %4.f MPa'%sigtmax)\n",
    "print('Contrainte normale due à Mfmax : %4.f MPa'%sigfmax)"
   ]
  },
  {
   "cell_type": "markdown",
   "metadata": {},
   "source": [
    "On voit que l'effet de l'effort normal représente à peine 5% de celui du moment de flexion $M_{f\\text{max}}$. On peut donc négliger sa contribution et :<br>\n",
    "\n",
    "$$\n",
    "\\sigma_\\text{eq}=\\sqrt{\n",
    "\\left(\\frac{32}{\\pi d^3}M_{f\\text{max}}\\right)^2\n",
    "+\n",
    "3\\left(\\frac{16}{\\pi d^3}M_{t\\text{max}} \\right)^2}=\\frac{16}{\\pi d^3}\\sqrt{4M_{f\\text{max}}^2+3M_{t\\text{max}}^2}\n",
    "$$<br>\n",
    "et :\n",
    "$$\n",
    "\\sigma_\\text{eq}\\leq \\frac{R_e}{s}\\Longrightarrow d\\geq \\left[\\frac{16}{\\pi }\\frac{s}{R_e}\\sqrt{4M_{f\\text{max}}^2+3M_{t\\text{max}}^2}\\right]^{\\frac{1}{3}}\n",
    "$$"
   ]
  },
  {
   "cell_type": "code",
   "execution_count": 6,
   "metadata": {},
   "outputs": [
    {
     "name": "stdout",
     "output_type": "stream",
     "text": [
      "d >= 21.59 mm\n"
     ]
    }
   ],
   "source": [
    "Mideal=np.sqrt(4*Mfmax**2 + 3*Mtmax**2)*1e3  # Attention moment de flexion en N.mm\n",
    "s = 4\n",
    "Re = 685\n",
    "dmini = ((16/Pi)*(s/Re)*Mideal)**(1/3)\n",
    "print('d >= %.2f mm'%dmini)"
   ]
  },
  {
   "cell_type": "markdown",
   "metadata": {},
   "source": [
    "Pour vérifier on peut calculer la valeur effective du coeffcient de sécurité :"
   ]
  },
  {
   "cell_type": "code",
   "execution_count": 7,
   "metadata": {},
   "outputs": [
    {
     "name": "stdout",
     "output_type": "stream",
     "text": [
      "Coef de sécurité réel : 3.90\n"
     ]
    }
   ],
   "source": [
    "d = dmini\n",
    "I = Pi*d**4/64\n",
    "S = Pi*d**2/4\n",
    "sigmax = (Mfmax*1e3*d)/(2*I) + np.abs(Nmax)/S\n",
    "taumax = (Mtmax*1e3*d)/(4*I)\n",
    "sigmises = np.sqrt(sigmax**2 + 3*taumax**2)\n",
    "s = Re/sigmises\n",
    "print ('Coef de sécurité réel : %.2f'%s)"
   ]
  },
  {
   "cell_type": "markdown",
   "metadata": {},
   "source": [
    "On peut aussi chercher à résoudre numériquement l'équation :\n",
    "<br>\n",
    "$$\\sigma_\\text{eq}= \\frac{R_e}{s}\\Longrightarrow\n",
    "f(d)=0=\n",
    "\\sqrt{\\left(\\frac{32}{\\pi d^3}M_{f\\text{max}} + \\frac{\\vert 4N_\\text{max}\\vert}{\\pi d^2}\\right)^2\n",
    "+\n",
    "3\\left(\\frac{16}{\\pi d^3}M_{t\\text{max}} \\right)^2} - \\left(\\frac{R_e}{s}\\right)\n",
    "$$\n",
    "<br>\n",
    "avec, par exemple, une méthode de newton-raphson, ......"
   ]
  },
  {
   "cell_type": "code",
   "execution_count": 8,
   "metadata": {},
   "outputs": [
    {
     "name": "stdout",
     "output_type": "stream",
     "text": [
      "Diametre de la section pour coef. sec.=3 :21.77 mm\n"
     ]
    }
   ],
   "source": [
    "# Import module de méthode numérique de python :\n",
    "from scipy import optimize\n",
    "# On définit la fonction à résoudre (=0)\n",
    "def diam(d):\n",
    "    s = 4\n",
    "    I = Pi*d**4/64\n",
    "    S = Pi*d**2/4\n",
    "    ecart = np.sqrt(((Mfmax*1e3*d)/(2*I) + np.abs(Nmax)/S)**2 + 3*((Mtmax*1e3*d)/(4*I))**2) - (Re/s)\n",
    "    return ecart\n",
    "# Appel de la méthode de newton\n",
    "dmin = optimize.newton(diam,x0=1,fprime=None)\n",
    "# Affichage de la solution :\n",
    "print('Diametre de la section pour coef. sec.=3 :%.2f mm'%dmin)"
   ]
  },
  {
   "cell_type": "markdown",
   "metadata": {},
   "source": [
    "On peut aussi tracer la fonction $f(d)$ pour trouver la solution de $f(d)=0$."
   ]
  },
  {
   "cell_type": "code",
   "execution_count": 40,
   "metadata": {},
   "outputs": [
    {
     "data": {
      "image/png": "[encoded data removed]",
      "text/plain": [
       "<Figure size 1008x360 with 1 Axes>"
      ]
     },
     "metadata": {
      "needs_background": "light"
     },
     "output_type": "display_data"
    }
   ],
   "source": [
    "import matplotlib.pyplot as plt\n",
    "d=np.linspace(15,30,100)\n",
    "plt.figure(figsize=(14,5))\n",
    "plt.plot(d,diam(d),'r-',label=r'$f(d)$')\n",
    "plt.xticks([15,20,dmin,25,30])\n",
    "plt.legend()\n",
    "plt.grid()"
   ]
  },
  {
   "cell_type": "code",
   "execution_count": null,
   "metadata": {},
   "outputs": [],
   "source": []
  }
 ],
 "metadata": {
  "kernelspec": {
   "display_name": "Python 3",
   "language": "python",
   "name": "python3"
  },
  "language_info": {
   "codemirror_mode": {
    "name": "ipython",
    "version": 3
   },
   "file_extension": ".py",
   "mimetype": "text/x-python",
   "name": "python",
   "nbconvert_exporter": "python",
   "pygments_lexer": "ipython3",
   "version": "3.7.7"
  }
 },
 "nbformat": 4,
 "nbformat_minor": 4
}
